{
 "cells": [
  {
   "attachments": {},
   "cell_type": "markdown",
   "metadata": {},
   "source": [
    "### 1. Write a function that inputs a number and prints the multiplication table of that number"
   ]
  },
  {
   "cell_type": "code",
   "execution_count": 1,
   "metadata": {},
   "outputs": [
    {
     "name": "stdout",
     "output_type": "stream",
     "text": [
      "Multiplication table of 8:\n",
      "8 * 1 = 8\n",
      "8 * 2 = 16\n",
      "8 * 3 = 24\n",
      "8 * 4 = 32\n",
      "8 * 5 = 40\n",
      "8 * 6 = 48\n",
      "8 * 7 = 56\n",
      "8 * 8 = 64\n",
      "8 * 9 = 72\n",
      "8 * 10 = 80\n"
     ]
    }
   ],
   "source": [
    "def mult_table(num):\n",
    "    '''prints the multiplication table of a number'''\n",
    "    print(f\"Multiplication table of {num}:\")\n",
    "    for i in range(1,11):\n",
    "        print(num, '*', i, '=', num * i)\n",
    "\n",
    "mult_table(8)"
   ]
  },
  {
   "attachments": {},
   "cell_type": "markdown",
   "metadata": {},
   "source": [
    "### 2. Write a program to print twin primes less than 1000. If two consecutive odd numbers are both prime then they are known as twin primes"
   ]
  },
  {
   "cell_type": "code",
   "execution_count": 7,
   "metadata": {},
   "outputs": [
    {
     "name": "stdout",
     "output_type": "stream",
     "text": [
      "3 5\n",
      "5 7\n",
      "11 13\n",
      "17 19\n",
      "29 31\n",
      "41 43\n",
      "59 61\n",
      "71 73\n",
      "101 103\n",
      "107 109\n",
      "137 139\n",
      "149 151\n",
      "179 181\n",
      "191 193\n",
      "197 199\n",
      "227 229\n",
      "239 241\n",
      "269 271\n",
      "281 283\n",
      "311 313\n",
      "347 349\n",
      "419 421\n",
      "431 433\n",
      "461 463\n",
      "521 523\n",
      "569 571\n",
      "599 601\n",
      "617 619\n",
      "641 643\n",
      "659 661\n",
      "809 811\n",
      "821 823\n",
      "827 829\n",
      "857 859\n",
      "881 883\n"
     ]
    }
   ],
   "source": [
    "def prime_num(num):\n",
    "    '''returns prime number'''\n",
    "    for i in range(2,num):\n",
    "        if num % i == 0:\n",
    "            return False\n",
    "    return True\n",
    "\n",
    "def twin_primes(num):\n",
    "    '''returns twin primes'''\n",
    "    for j in range(2,num):\n",
    "        k = j + 2\n",
    "        if prime_num(j) and prime_num(k):\n",
    "            print(j,k)\n",
    "\n",
    "twin_primes(1000)"
   ]
  },
  {
   "attachments": {},
   "cell_type": "markdown",
   "metadata": {},
   "source": [
    "### 3. Write a program to find out the prime factors of a number. Example: prime factors of 56 - 2, 2, 2, 7"
   ]
  },
  {
   "cell_type": "code",
   "execution_count": 13,
   "metadata": {},
   "outputs": [
    {
     "data": {
      "text/plain": [
       "[2, 2, 2, 7]"
      ]
     },
     "execution_count": 13,
     "metadata": {},
     "output_type": "execute_result"
    }
   ],
   "source": [
    "def prime_fact(num):\n",
    "    '''returns prime factors of a number'''\n",
    "    prime_fact = []\n",
    "    for i in range(2,num):\n",
    "        while num % i == 0:\n",
    "            prime_fact.append(i)\n",
    "            num = num // i\n",
    "        else:\n",
    "            i = i + 1\n",
    "    return prime_fact\n",
    "\n",
    "prime_fact(56)"
   ]
  },
  {
   "attachments": {},
   "cell_type": "markdown",
   "metadata": {},
   "source": [
    "### 4. Write a program to implement these formulae of permutations and combinations.\n",
    "Number of permutations of n objects taken r at a time: p(n, r) = n! / (n-r)!. \n",
    "\n",
    "Number of combinations of n objects taken r at a time is: c(n, r) = n! / (r!*(n-r)!) = p(n,r) / r!"
   ]
  },
  {
   "cell_type": "code",
   "execution_count": 3,
   "metadata": {},
   "outputs": [
    {
     "name": "stdout",
     "output_type": "stream",
     "text": [
      "Permitation is: 32760.0\n",
      "Combination is: 1365.0\n"
     ]
    }
   ],
   "source": [
    "def fact(num):\n",
    "    '''rerturns the factorial of number'''\n",
    "    if num == 1:\n",
    "        return num\n",
    "    else:\n",
    "        return num * (fact(num-1))\n",
    "    \n",
    "def perm(n,r):\n",
    "    '''returns the permutation of the number'''\n",
    "    return fact(n) / fact(n-r)\n",
    "\n",
    "def comb(n,r):\n",
    "    '''returns the combination of the number'''\n",
    "    return fact(n) / (fact(r) * (fact(n-r)))\n",
    "\n",
    "n = 15\n",
    "r = 4\n",
    "\n",
    "print(\"Permitation is:\", perm(n,r))\n",
    "print(\"Combination is:\", comb(n,r))"
   ]
  },
  {
   "attachments": {},
   "cell_type": "markdown",
   "metadata": {},
   "source": [
    "### 5. Write a function that converts a decimal number to binary number"
   ]
  },
  {
   "cell_type": "code",
   "execution_count": 7,
   "metadata": {},
   "outputs": [
    {
     "name": "stdout",
     "output_type": "stream",
     "text": [
      "10101110"
     ]
    }
   ],
   "source": [
    "def DecToBin(num):\n",
    "    '''converts decimal number to binary number'''\n",
    "    if num > 1:\n",
    "        DecToBin(num // 2)\n",
    "    print(num % 2, end = \"\")\n",
    "\n",
    "DecToBin(174)"
   ]
  },
  {
   "attachments": {},
   "cell_type": "markdown",
   "metadata": {},
   "source": [
    "### 6. Write a function cubesum() that accepts an integer and returns the sum of the cubes of individual digits of that number. Use this function to make functions PrintArmstrong() and isArmstrong() to print Armstrong numbers and to find whether is an Armstrong number."
   ]
  },
  {
   "cell_type": "code",
   "execution_count": 10,
   "metadata": {},
   "outputs": [],
   "source": [
    "def cubesum(num):\n",
    "    '''returns the sum of the cubes of individual digits of the number'''\n",
    "    sum = 0\n",
    "    while num > 0:\n",
    "        sum = sum + ((num % 10) ** 3)\n",
    "        num = num // 10\n",
    "    return sum\n"
   ]
  },
  {
   "cell_type": "code",
   "execution_count": 13,
   "metadata": {},
   "outputs": [],
   "source": [
    "def isArmstrong(num):\n",
    "    '''check whether number is an armstrong number or not'''\n",
    "    if cubesum(num) == num:\n",
    "        return True\n",
    "    else:\n",
    "        return False"
   ]
  },
  {
   "cell_type": "code",
   "execution_count": 15,
   "metadata": {},
   "outputs": [
    {
     "data": {
      "text/plain": [
       "[0, 1, 153, 370, 371, 407]"
      ]
     },
     "execution_count": 15,
     "metadata": {},
     "output_type": "execute_result"
    }
   ],
   "source": [
    "\n",
    "def PrintArmstrong(num):\n",
    "    '''print armstrong numbers'''\n",
    "    armstrong = []\n",
    "    for i in range(num): \n",
    "        if isArmstrong(i):\n",
    "            armstrong.append(i)\n",
    "    return armstrong\n",
    "\n",
    "PrintArmstrong(1000)"
   ]
  },
  {
   "attachments": {},
   "cell_type": "markdown",
   "metadata": {},
   "source": [
    "### 7. Write a function prodDigits() that inputs a number and returns the product of digits of that number."
   ]
  },
  {
   "cell_type": "code",
   "execution_count": 16,
   "metadata": {},
   "outputs": [
    {
     "data": {
      "text/plain": [
       "6"
      ]
     },
     "execution_count": 16,
     "metadata": {},
     "output_type": "execute_result"
    }
   ],
   "source": [
    "def prodDigits(num):\n",
    "    '''returns the product of digits of that number'''\n",
    "    prod = 1\n",
    "    while num > 0:\n",
    "        prod = prod * (num % 10)\n",
    "        num = num // 10\n",
    "    return prod\n",
    "\n",
    "prodDigits(123)"
   ]
  },
  {
   "attachments": {},
   "cell_type": "markdown",
   "metadata": {},
   "source": [
    "### 8. If all digits of a number n are multiplied by each other repeating with the product, the one digit number obtained at last is called the multiplicative digital root of n. The number of times digits need to be multiplied to reach one digit is called the multiplicative persistance of n.\n",
    "Example: 86 -> 48 -> 32 -> 6 (MDR 6, MPersistence 3)\n",
    "341 -> 12->2 (MDR 2, MPersistence 2)"
   ]
  },
  {
   "cell_type": "code",
   "execution_count": 28,
   "metadata": {},
   "outputs": [
    {
     "name": "stdout",
     "output_type": "stream",
     "text": [
      "86\n",
      "48\n",
      "32\n",
      "6\n"
     ]
    },
    {
     "data": {
      "text/plain": [
       "3"
      ]
     },
     "execution_count": 28,
     "metadata": {},
     "output_type": "execute_result"
    }
   ],
   "source": [
    "def prodDigits(num):\n",
    "    '''returns the product of digits of that number'''\n",
    "    prod = 1\n",
    "    while num > 0:\n",
    "        prod = prod * (num % 10)\n",
    "        num = num // 10\n",
    "    return prod\n",
    "\n",
    "def MDR(num):\n",
    "    '''returns the multiplicative digital root of number'''\n",
    "    print(num)\n",
    "    while num > 10:\n",
    "        print(prodDigits(num))\n",
    "        num = prodDigits(num)\n",
    "\n",
    "MDR(86)\n",
    "\n",
    "def MPersistence(num):\n",
    "    '''returns the number of times digits need to be multiplied to reach one digit'''\n",
    "    count = 0\n",
    "    while num > 9:\n",
    "        num = prodDigits(num)\n",
    "        count = count + 1\n",
    "    return count\n",
    "\n",
    "MPersistence(86)\n"
   ]
  },
  {
   "attachments": {},
   "cell_type": "markdown",
   "metadata": {},
   "source": [
    "### 9. Write a function sumPdivisors() that finds the sum of proper divisors of a number. Proper divisors of a number are those numbers by which the number is divisible, except the number itself. For example proper divisors of 36 are 1, 2, 3, 4, 6, 9, 18"
   ]
  },
  {
   "cell_type": "code",
   "execution_count": 38,
   "metadata": {},
   "outputs": [
    {
     "data": {
      "text/plain": [
       "[1, 2, 3, 4, 6, 9, 12, 18]"
      ]
     },
     "execution_count": 38,
     "metadata": {},
     "output_type": "execute_result"
    }
   ],
   "source": [
    "def sumPdivisors(num):\n",
    "    '''returns the sum of proper divisors of a number'''\n",
    "    divisor = []\n",
    "    sum = 0\n",
    "    for i in range(1,num):\n",
    "        if num % i == 0:\n",
    "            divisor.append(i)\n",
    "    return divisor\n",
    "\n",
    "sumPdivisors(36)"
   ]
  },
  {
   "attachments": {},
   "cell_type": "markdown",
   "metadata": {},
   "source": [
    "### 10. A number is called perfect if the sum of proper divisors of that number is equal to the number. For example 28 is perfect number, since 1+2+4+7+14=28. Write a program to print all the perfect numbers in a given range"
   ]
  },
  {
   "cell_type": "code",
   "execution_count": 49,
   "metadata": {},
   "outputs": [
    {
     "name": "stdout",
     "output_type": "stream",
     "text": [
      "28 is perfect number\n"
     ]
    }
   ],
   "source": [
    "def sumPdivisors(num):\n",
    "    '''returns the sum of proper divisors of a number'''\n",
    "    divisor = []\n",
    "    sum = 0\n",
    "    for i in range(1,num):\n",
    "        if num % i == 0:\n",
    "            divisor.append(i)\n",
    "    return divisor\n",
    "\n",
    "num = 28\n",
    "\n",
    "def SumP_Divisor(num):\n",
    "    '''checks if the given number is perfect or not'''\n",
    "    if sum(sumPdivisors(num)) == num:\n",
    "        print(num, \"is perfect number\")\n",
    "    else:\n",
    "        print(num, \"is not perfect number\")\n",
    "\n",
    "SumP_Divisor(num)"
   ]
  },
  {
   "cell_type": "code",
   "execution_count": 48,
   "metadata": {},
   "outputs": [
    {
     "data": {
      "text/plain": [
       "[0, 6, 28, 496]"
      ]
     },
     "execution_count": 48,
     "metadata": {},
     "output_type": "execute_result"
    }
   ],
   "source": [
    "def SumP_Divisor(n):\n",
    "    '''checks if the given number is perfect or not'''\n",
    "    if sum(sumPdivisors(n)) == n:\n",
    "        return True\n",
    "    else:\n",
    "        return False\n",
    "\n",
    "def Perfect_num(n):\n",
    "    '''print perfect number in a givne range'''\n",
    "    perfect = []\n",
    "    for i in range(n): \n",
    "        if SumP_Divisor(i):\n",
    "            perfect.append(i)\n",
    "    return perfect\n",
    "\n",
    "Perfect_num(1000)"
   ]
  },
  {
   "attachments": {},
   "cell_type": "markdown",
   "metadata": {},
   "source": [
    "### 11. Two different numbers are called amicable numbers if the sum of the proper divisors of each is equal to the other number. For example 220 and 284 are amicable numbers.\n",
    "Sum of proper divisors of 220 = 1+2+4+5+10+11+20+22+44+55+110 = 284\n",
    "\n",
    "Sum of proper divisors of 284 = 1+2+4+71+142 = 220"
   ]
  },
  {
   "cell_type": "code",
   "execution_count": 55,
   "metadata": {},
   "outputs": [
    {
     "name": "stdout",
     "output_type": "stream",
     "text": [
      "220 & 284 are amicable number\n"
     ]
    }
   ],
   "source": [
    "def sumPdivisors(num):\n",
    "    '''returns the sum of proper divisors of a number'''\n",
    "    divisor = []\n",
    "    sum = 0\n",
    "    for i in range(1,num):\n",
    "        if num % i == 0:\n",
    "            divisor.append(i)\n",
    "    return divisor\n",
    "\n",
    "def amicable_num(num1,num2):\n",
    "    '''checks if the given number is perfect or not'''\n",
    "    if sum(sumPdivisors(num1)) == num2 and sum(sumPdivisors(num2)) == num1:\n",
    "        print(num1, \"&\", num2, \"are amicable number\")\n",
    "    else:\n",
    "        print(\"Ignore\")\n",
    "\n",
    "num1 = 220\n",
    "num2 = 284\n",
    "\n",
    "amicable_num(num1, num2)"
   ]
  },
  {
   "attachments": {},
   "cell_type": "markdown",
   "metadata": {},
   "source": [
    "### 12. Write a program which can filter odd numbers in a list by using filter function"
   ]
  },
  {
   "cell_type": "code",
   "execution_count": 1,
   "metadata": {},
   "outputs": [
    {
     "name": "stdout",
     "output_type": "stream",
     "text": [
      "[1, 3, 5, 7]\n"
     ]
    }
   ],
   "source": [
    "my_list = [1, 2, 3, 4, 5, 6, 7, 8]\n",
    "\n",
    "final_odd_number = list(filter(lambda x: (x % 2 != 0), my_list))\n",
    "print(final_odd_number)"
   ]
  },
  {
   "attachments": {},
   "cell_type": "markdown",
   "metadata": {},
   "source": [
    "### 13. Write a program which can map() to make a list whose elements are cube of elements in a given list"
   ]
  },
  {
   "cell_type": "code",
   "execution_count": 2,
   "metadata": {},
   "outputs": [
    {
     "name": "stdout",
     "output_type": "stream",
     "text": [
      "[1, 8, 27, 64, 125, 216, 343, 512]\n"
     ]
    }
   ],
   "source": [
    "my_list = [1, 2, 3, 4, 5, 6, 7, 8]\n",
    "\n",
    "final_list = list(map(lambda x: (x ** 3), my_list))\n",
    "print(final_list)"
   ]
  },
  {
   "attachments": {},
   "cell_type": "markdown",
   "metadata": {},
   "source": [
    "### 14. Write a program which can map() and filter() to make a list whose elements are cube of even number in a given list"
   ]
  },
  {
   "cell_type": "code",
   "execution_count": 6,
   "metadata": {},
   "outputs": [
    {
     "name": "stdout",
     "output_type": "stream",
     "text": [
      "[8, 64, 216, 512]\n"
     ]
    }
   ],
   "source": [
    "my_list = [1, 2, 3, 4, 5, 6, 7, 8]\n",
    "\n",
    "final_list = list(map(lambda y: y ** 3, filter(lambda x: x % 2 == 0, my_list)))\n",
    "print(final_list)"
   ]
  }
 ],
 "metadata": {
  "kernelspec": {
   "display_name": "Python 3",
   "language": "python",
   "name": "python3"
  },
  "language_info": {
   "codemirror_mode": {
    "name": "ipython",
    "version": 3
   },
   "file_extension": ".py",
   "mimetype": "text/x-python",
   "name": "python",
   "nbconvert_exporter": "python",
   "pygments_lexer": "ipython3",
   "version": "3.11.2"
  },
  "orig_nbformat": 4
 },
 "nbformat": 4,
 "nbformat_minor": 2
}
